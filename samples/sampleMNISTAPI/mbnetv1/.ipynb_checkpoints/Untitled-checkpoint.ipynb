{
 "cells": [
  {
   "cell_type": "code",
   "execution_count": 8,
   "metadata": {},
   "outputs": [],
   "source": [
    "import tensorflow as tf\n",
    "import numpy as np"
   ]
  },
  {
   "cell_type": "code",
   "execution_count": 2,
   "metadata": {},
   "outputs": [],
   "source": [
    "interpreter = tf.lite.Interpreter(model_path=\"mbv1_1.0_12_90_68.4.tflite\")\n",
    "interpreter.allocate_tensors()"
   ]
  },
  {
   "cell_type": "code",
   "execution_count": 3,
   "metadata": {},
   "outputs": [],
   "source": [
    "stuff = interpreter.get_tensor_details()"
   ]
  },
  {
   "cell_type": "code",
   "execution_count": 25,
   "metadata": {},
   "outputs": [
    {
     "name": "stdout",
     "output_type": "stream",
     "text": [
      "contraction_1x1_0 (64, 1, 1, 32)\n",
      "contraction_1x1_1 (128, 1, 1, 64)\n",
      "contraction_1x1_10 (512, 1, 1, 512)\n",
      "contraction_1x1_11 (1024, 1, 1, 512)\n",
      "contraction_1x1_12 (1024, 1, 1, 1024)\n",
      "contraction_1x1_2 (128, 1, 1, 128)\n",
      "contraction_1x1_3 (256, 1, 1, 128)\n",
      "contraction_1x1_4 (256, 1, 1, 256)\n",
      "contraction_1x1_5 (512, 1, 1, 256)\n",
      "contraction_1x1_6 (512, 1, 1, 512)\n",
      "contraction_1x1_7 (512, 1, 1, 512)\n",
      "contraction_1x1_8 (512, 1, 1, 512)\n",
      "contraction_1x1_9 (512, 1, 1, 512)\n",
      "depthwise_nxn_0 (1, 3, 3, 32)\n",
      "depthwise_nxn_1 (1, 3, 3, 64)\n",
      "depthwise_nxn_10 (1, 3, 3, 512)\n",
      "depthwise_nxn_11 (1, 3, 3, 512)\n",
      "depthwise_nxn_12 (1, 3, 3, 1024)\n",
      "depthwise_nxn_2 (1, 3, 3, 128)\n",
      "depthwise_nxn_3 (1, 3, 3, 128)\n",
      "depthwise_nxn_4 (1, 3, 3, 256)\n",
      "depthwise_nxn_5 (1, 3, 3, 256)\n",
      "depthwise_nxn_6 (1, 3, 3, 512)\n",
      "depthwise_nxn_7 (1, 3, 3, 512)\n",
      "depthwise_nxn_8 (1, 3, 3, 512)\n",
      "depthwise_nxn_9 (1, 3, 3, 512)\n"
     ]
    }
   ],
   "source": [
    "weight_tensors_meta = []\n",
    "weight_tensors = []\n",
    "\n",
    "for j in range(len(stuff)):\n",
    "    if \"weight\" in stuff[j]['name']:\n",
    "        weight_tensors_meta.append(stuff[j])\n",
    "        weight_tensors.append(interpreter.get_tensor(j))\n",
    "        name = weight_tensors_meta[-1]['name'].split(\"/\")[1]\n",
    "        print(name, weight_tensors[-1].shape)\n",
    "        np.save(name + \".npy\",weight_tensors[-1])"
   ]
  },
  {
   "cell_type": "code",
   "execution_count": 21,
   "metadata": {},
   "outputs": [
    {
     "data": {
      "text/plain": [
       "['Const',\n",
       " 'ConstantFolding/truediv_recip',\n",
       " 'float_image_input',\n",
       " 'resnet_model/Pad',\n",
       " 'resnet_model/Pad/paddings',\n",
       " 'resnet_model/Pad_1',\n",
       " 'resnet_model/Pad_1/paddings',\n",
       " 'resnet_model/Pad_2',\n",
       " 'resnet_model/Pad_2/paddings',\n",
       " 'resnet_model/Pad_3',\n",
       " 'resnet_model/Pad_3/paddings',\n",
       " 'resnet_model/Pad_4',\n",
       " 'resnet_model/Pad_4/paddings',\n",
       " 'resnet_model/Relu',\n",
       " 'resnet_model/Relu_1',\n",
       " 'resnet_model/Relu_10',\n",
       " 'resnet_model/Relu_11',\n",
       " 'resnet_model/Relu_12',\n",
       " 'resnet_model/Relu_13',\n",
       " 'resnet_model/Relu_14',\n",
       " 'resnet_model/Relu_15',\n",
       " 'resnet_model/Relu_16',\n",
       " 'resnet_model/Relu_17',\n",
       " 'resnet_model/Relu_18',\n",
       " 'resnet_model/Relu_19',\n",
       " 'resnet_model/Relu_2',\n",
       " 'resnet_model/Relu_20',\n",
       " 'resnet_model/Relu_21',\n",
       " 'resnet_model/Relu_22',\n",
       " 'resnet_model/Relu_23',\n",
       " 'resnet_model/Relu_24',\n",
       " 'resnet_model/Relu_25',\n",
       " 'resnet_model/Relu_26',\n",
       " 'resnet_model/Relu_3',\n",
       " 'resnet_model/Relu_4',\n",
       " 'resnet_model/Relu_5',\n",
       " 'resnet_model/Relu_6',\n",
       " 'resnet_model/Relu_7',\n",
       " 'resnet_model/Relu_8',\n",
       " 'resnet_model/Relu_9',\n",
       " 'resnet_model/contraction_1x1_0/convolution_bias',\n",
       " 'resnet_model/contraction_1x1_0/weights/masked_weight',\n",
       " 'resnet_model/contraction_1x1_1/convolution_bias',\n",
       " 'resnet_model/contraction_1x1_1/weights/masked_weight',\n",
       " 'resnet_model/contraction_1x1_10/convolution_bias',\n",
       " 'resnet_model/contraction_1x1_10/weights/masked_weight',\n",
       " 'resnet_model/contraction_1x1_11/convolution_bias',\n",
       " 'resnet_model/contraction_1x1_11/weights/masked_weight',\n",
       " 'resnet_model/contraction_1x1_12/convolution_bias',\n",
       " 'resnet_model/contraction_1x1_12/weights/masked_weight',\n",
       " 'resnet_model/contraction_1x1_2/convolution_bias',\n",
       " 'resnet_model/contraction_1x1_2/weights/masked_weight',\n",
       " 'resnet_model/contraction_1x1_3/convolution_bias',\n",
       " 'resnet_model/contraction_1x1_3/weights/masked_weight',\n",
       " 'resnet_model/contraction_1x1_4/convolution_bias',\n",
       " 'resnet_model/contraction_1x1_4/weights/masked_weight',\n",
       " 'resnet_model/contraction_1x1_5/convolution_bias',\n",
       " 'resnet_model/contraction_1x1_5/weights/masked_weight',\n",
       " 'resnet_model/contraction_1x1_6/convolution_bias',\n",
       " 'resnet_model/contraction_1x1_6/weights/masked_weight',\n",
       " 'resnet_model/contraction_1x1_7/convolution_bias',\n",
       " 'resnet_model/contraction_1x1_7/weights/masked_weight',\n",
       " 'resnet_model/contraction_1x1_8/convolution_bias',\n",
       " 'resnet_model/contraction_1x1_8/weights/masked_weight',\n",
       " 'resnet_model/contraction_1x1_9/convolution_bias',\n",
       " 'resnet_model/contraction_1x1_9/weights/masked_weight',\n",
       " 'resnet_model/depthwise_nxn_0/depthwise_bias',\n",
       " 'resnet_model/depthwise_nxn_0/depthwise_weights/read',\n",
       " 'resnet_model/depthwise_nxn_1/depthwise_bias',\n",
       " 'resnet_model/depthwise_nxn_1/depthwise_weights/read',\n",
       " 'resnet_model/depthwise_nxn_10/depthwise_bias',\n",
       " 'resnet_model/depthwise_nxn_10/depthwise_weights/read',\n",
       " 'resnet_model/depthwise_nxn_11/depthwise_bias',\n",
       " 'resnet_model/depthwise_nxn_11/depthwise_weights/read',\n",
       " 'resnet_model/depthwise_nxn_12/depthwise_bias',\n",
       " 'resnet_model/depthwise_nxn_12/depthwise_weights/read',\n",
       " 'resnet_model/depthwise_nxn_2/depthwise_bias',\n",
       " 'resnet_model/depthwise_nxn_2/depthwise_weights/read',\n",
       " 'resnet_model/depthwise_nxn_3/depthwise_bias',\n",
       " 'resnet_model/depthwise_nxn_3/depthwise_weights/read',\n",
       " 'resnet_model/depthwise_nxn_4/depthwise_bias',\n",
       " 'resnet_model/depthwise_nxn_4/depthwise_weights/read',\n",
       " 'resnet_model/depthwise_nxn_5/depthwise_bias',\n",
       " 'resnet_model/depthwise_nxn_5/depthwise_weights/read',\n",
       " 'resnet_model/depthwise_nxn_6/depthwise_bias',\n",
       " 'resnet_model/depthwise_nxn_6/depthwise_weights/read',\n",
       " 'resnet_model/depthwise_nxn_7/depthwise_bias',\n",
       " 'resnet_model/depthwise_nxn_7/depthwise_weights/read',\n",
       " 'resnet_model/depthwise_nxn_8/depthwise_bias',\n",
       " 'resnet_model/depthwise_nxn_8/depthwise_weights/read',\n",
       " 'resnet_model/depthwise_nxn_9/depthwise_bias',\n",
       " 'resnet_model/depthwise_nxn_9/depthwise_weights/read',\n",
       " 'resnet_model/final_avg_pool/AvgPool',\n",
       " 'resnet_model/final_dense/MatMul_bias',\n",
       " 'resnet_model/final_dense/kernel/read/transpose',\n",
       " 'resnet_model/final_dense_1',\n",
       " 'resnet_model/initial_conv/Conv2D_bias',\n",
       " 'resnet_model/initial_conv/kernel/read',\n",
       " 'sub',\n",
       " 'truediv']"
      ]
     },
     "execution_count": 21,
     "metadata": {},
     "output_type": "execute_result"
    }
   ],
   "source": [
    "[j['name'] for j in stuff]"
   ]
  },
  {
   "cell_type": "code",
   "execution_count": 24,
   "metadata": {},
   "outputs": [
    {
     "data": {
      "text/plain": [
       "{'name': 'resnet_model/initial_conv/kernel/read',\n",
       " 'index': 97,\n",
       " 'shape': array([32,  3,  3,  3], dtype=int32),\n",
       " 'dtype': numpy.float32,\n",
       " 'quantization': (0.0, 0)}"
      ]
     },
     "execution_count": 24,
     "metadata": {},
     "output_type": "execute_result"
    }
   ],
   "source": [
    "stuff[97]"
   ]
  },
  {
   "cell_type": "code",
   "execution_count": null,
   "metadata": {},
   "outputs": [],
   "source": []
  }
 ],
 "metadata": {
  "kernelspec": {
   "display_name": "Python 3",
   "language": "python",
   "name": "python3"
  },
  "language_info": {
   "codemirror_mode": {
    "name": "ipython",
    "version": 3
   },
   "file_extension": ".py",
   "mimetype": "text/x-python",
   "name": "python",
   "nbconvert_exporter": "python",
   "pygments_lexer": "ipython3",
   "version": "3.7.3"
  }
 },
 "nbformat": 4,
 "nbformat_minor": 2
}
